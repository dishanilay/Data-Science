{
 "cells": [
  {
   "cell_type": "code",
   "execution_count": 292,
   "id": "5acf1e95",
   "metadata": {},
   "outputs": [
    {
     "name": "stdout",
     "output_type": "stream",
     "text": [
      "Python:Exercises::PHP:exercises:\n"
     ]
    }
   ],
   "source": [
    "#example1\n",
    "import re\n",
    "st='Python Exercises, PHP exercises.'\n",
    "print(re.sub(\"[ ,.]\", \":\",st))\n"
   ]
  },
  {
   "cell_type": "code",
   "execution_count": 293,
   "id": "99e27635",
   "metadata": {},
   "outputs": [
    {
     "name": "stdout",
     "output_type": "stream",
     "text": [
      "['area', 'end', 'and', 'end']\n"
     ]
    }
   ],
   "source": [
    "#example2\n",
    "import re\n",
    "st= \"area of circle.end and end\"\n",
    "op= re.findall(\"[ae]\\w+\",st)\n",
    "print(op)"
   ]
  },
  {
   "cell_type": "code",
   "execution_count": 294,
   "id": "546ea3fa",
   "metadata": {},
   "outputs": [
    {
     "name": "stdout",
     "output_type": "stream",
     "text": [
      "['this', 'eeee', 'cvbd', 'ABCD']\n"
     ]
    }
   ],
   "source": [
    "#example3\n",
    "import re\n",
    "string=\"this is eeee  zxcvv cvbd ABCD\"\n",
    "pattern=r\"\\b\\w{4}\\b\"\n",
    "obj1=re.compile(pattern)\n",
    "op=obj1.findall(string)\n",
    "print(op)\n",
    "\n"
   ]
  },
  {
   "cell_type": "code",
   "execution_count": 295,
   "id": "9a22ae62",
   "metadata": {},
   "outputs": [
    {
     "name": "stdout",
     "output_type": "stream",
     "text": [
      "['the', 'sun', 'moon']\n"
     ]
    }
   ],
   "source": [
    "#Question 4- Create a function in python to find all three, four, and five character words in a string. \n",
    "#The use of the re.compile() method is mandatory.\n",
    "import re\n",
    "st1=\"the sun is orange color.moon is white\"\n",
    "pattern=r\"\\b\\w{3,4}\\b\"\n",
    "rp=re.compile(pattern)\n",
    "str=rp.findall(st1)\n",
    "print(str)\n"
   ]
  },
  {
   "cell_type": "code",
   "execution_count": 296,
   "id": "112eade0",
   "metadata": {},
   "outputs": [
    {
     "name": "stdout",
     "output_type": "stream",
     "text": [
      "example\n",
      "w3resource\n",
      "github\n",
      "stackoverflow\n"
     ]
    }
   ],
   "source": [
    "#Question 5- Create a function in Python to remove the parenthesis in a list of strings. The use of the re.compile() method is mandatory.\n",
    "import re\n",
    "items = [\"example (.com)\", \"w3resource\", \"github (.com)\", \"stackoverflow (.com)\"]\n",
    "for item in items:\n",
    "    print(re.sub(r\" ?\\([^)]+\\)\", \"\", item))\n",
    "\n",
    "\n"
   ]
  },
  {
   "cell_type": "code",
   "execution_count": 297,
   "id": "18f32a5c",
   "metadata": {},
   "outputs": [
    {
     "name": "stdout",
     "output_type": "stream",
     "text": [
      "example\n",
      "hr@fliprobo\n",
      "github\n",
      "Hello\n",
      "Data\n"
     ]
    }
   ],
   "source": [
    "#Question 6- Write a python program to remove the parenthesis area from the text stored in the text file using Regular Expression.\n",
    "import re\n",
    "items = [\"example (.com)\", \"hr@fliprobo (.com)\", \"github (.com)\", \"Hello (Data Science World)\", \"Data (Scientist)\"]\n",
    "for item in items:\n",
    "    print(re.sub(r\" ?\\([^)]+\\)\", \"\", item))\n"
   ]
  },
  {
   "cell_type": "code",
   "execution_count": 298,
   "id": "7cf4a3b3",
   "metadata": {},
   "outputs": [
    {
     "name": "stdout",
     "output_type": "stream",
     "text": [
      "['Importance', 'Of', 'Regular', 'Expressions', 'In', 'Python']\n"
     ]
    }
   ],
   "source": [
    "#Question 7- Write a regular expression in Python to split a string into uppercase letters.\n",
    "import re\n",
    "ex1= \"ImportanceOfRegularExpressionsInPython\"\n",
    "print(re.findall('[A-Z][^A-Z]*',ex1))\n"
   ]
  },
  {
   "cell_type": "code",
   "execution_count": 299,
   "id": "1087279f",
   "metadata": {},
   "outputs": [
    {
     "name": "stdout",
     "output_type": "stream",
     "text": [
      "RegularExpression 1IsAn 2ImportantTopic 3InPython\n"
     ]
    }
   ],
   "source": [
    "#Question 8- Create a function in python to insert spaces between words starting with numbers.\n",
    "#Expected Output: RegularExpression 1IsAn 2ImportantTopic 3InPython\n",
    "import re\n",
    "def num(str1):\n",
    "  return re.sub(r\"(\\w)([0-9])\", r\"\\1 \\2\", str1)\n",
    "\n",
    "print(num(\"RegularExpression1IsAn2ImportantTopic3InPython\"))"
   ]
  },
  {
   "cell_type": "code",
   "execution_count": 300,
   "id": "88482317",
   "metadata": {},
   "outputs": [
    {
     "name": "stdout",
     "output_type": "stream",
     "text": [
      "Regular Expression1 Is An2 Important Topic3 In Python\n"
     ]
    }
   ],
   "source": [
    "#Question 9- Create a function in python to insert spaces between words starting with capital letters or with numbers.\n",
    "import re\n",
    "def num(str1):\n",
    " return re.sub(r\"(\\w)([A-Z])\", r\"\\1 \\2\", str1)\n",
    "print(num(\"RegularExpression1IsAn2ImportantTopic3InPython\"))\n"
   ]
  },
  {
   "cell_type": "code",
   "execution_count": 301,
   "id": "db1e08f7",
   "metadata": {},
   "outputs": [],
   "source": [
    "import re"
   ]
  },
  {
   "cell_type": "code",
   "execution_count": 302,
   "id": "ac414c09",
   "metadata": {},
   "outputs": [
    {
     "ename": "SyntaxError",
     "evalue": "(unicode error) 'unicodeescape' codec can't decode bytes in position 2-3: truncated \\UXXXXXXXX escape (3025617549.py, line 2)",
     "output_type": "error",
     "traceback": [
      "\u001b[1;36m  Cell \u001b[1;32mIn[302], line 2\u001b[1;36m\u001b[0m\n\u001b[1;33m    with open(\"C:\\Users\\Lakhan\\Desktop\\pythonex29.txt\")as file:\u001b[0m\n\u001b[1;37m                                                      ^\u001b[0m\n\u001b[1;31mSyntaxError\u001b[0m\u001b[1;31m:\u001b[0m (unicode error) 'unicodeescape' codec can't decode bytes in position 2-3: truncated \\UXXXXXXXX escape\n"
     ]
    }
   ],
   "source": [
    "#Question 10- Write a python program to extract email address from the text stored in the text file using Regular Expression.\n",
    "with open(\"C:\\Users\\Lakhan\\Desktop\\pythonex29.txt\")as file:\n",
    "for line in file:\n",
    "    pattern='[a-zA-Z0-9._%+-]+@[[a-zA-Z0-9.-]+\\.[a-zA-Z]{2,}'\n",
    "    urls=re.findall(pattern,line)\n",
    "    print(urls)\n"
   ]
  },
  {
   "cell_type": "code",
   "execution_count": 303,
   "id": "b2a942de",
   "metadata": {},
   "outputs": [
    {
     "name": "stdout",
     "output_type": "stream",
     "text": [
      "Not matched!\n",
      "Found a match!\n"
     ]
    }
   ],
   "source": [
    "#Question 11- Write a Python program to match a string that contains only upper and lowercase letters, numbers, and underscores.\n",
    "import re\n",
    "def text_match(text):\n",
    "        patterns = '^[a-zA-Z0-9_]*$'\n",
    "        if re.search(patterns,  text):\n",
    "                return 'Found a match!'\n",
    "        else:\n",
    "                return('Not matched!')\n",
    "\n",
    "print(text_match(\"The quick brown fox jumps over the lazy dog.\"))\n",
    "print(text_match(\"Python_Exercises_1\"))\n"
   ]
  },
  {
   "cell_type": "code",
   "execution_count": 304,
   "id": "194289e3",
   "metadata": {},
   "outputs": [
    {
     "name": "stdout",
     "output_type": "stream",
     "text": [
      "True\n",
      "False\n"
     ]
    }
   ],
   "source": [
    "#Question 12- Write a Python program where a string will start with a specific number. \n",
    "import re\n",
    "def match_num(string):\n",
    "    ip = re.compile(r\"^5\")\n",
    "    if ip.match(string):\n",
    "        return True\n",
    "    else:\n",
    "        return False\n",
    "print(match_num('5-2345861'))\n",
    "print(match_num('6-2345861'))"
   ]
  },
  {
   "cell_type": "code",
   "execution_count": 305,
   "id": "a31a2ce6",
   "metadata": {},
   "outputs": [
    {
     "name": "stdout",
     "output_type": "stream",
     "text": [
      "123.10.74.59\n"
     ]
    }
   ],
   "source": [
    "#Question 13- Write a Python program to remove leading zeros from an IP address\n",
    "import re\n",
    "ip = \"123.010.074.059\"\n",
    "op = re.sub('\\.[0]*', '.', ip)\n",
    "print(op)"
   ]
  },
  {
   "cell_type": "code",
   "execution_count": 308,
   "id": "7670f8a6",
   "metadata": {
    "scrolled": true
   },
   "outputs": [
    {
     "ename": "SyntaxError",
     "evalue": "(unicode error) 'unicodeescape' codec can't decode bytes in position 2-3: truncated \\UXXXXXXXX escape (4205037563.py, line 3)",
     "output_type": "error",
     "traceback": [
      "\u001b[1;36m  Cell \u001b[1;32mIn[308], line 3\u001b[1;36m\u001b[0m\n\u001b[1;33m    file = open(\"C:\\Users\\Lakhan\\Desktop\\python14.txt\"'r')\u001b[0m\n\u001b[1;37m                                                         ^\u001b[0m\n\u001b[1;31mSyntaxError\u001b[0m\u001b[1;31m:\u001b[0m (unicode error) 'unicodeescape' codec can't decode bytes in position 2-3: truncated \\UXXXXXXXX escape\n"
     ]
    }
   ],
   "source": [
    "#Question 14- Write a regular expression in python to match a date string in the form of Month name followed by day number and year stored in a text file.\n",
    "import re\n",
    "file = open(\"C:\\Users\\Lakhan\\Desktop\\python14.txt\",'r')\n",
    "\n",
    "text = file.read()\n",
    "matches = re.findall(r'(\\d+/\\d+/\\d+)'text)\n",
    "\n",
    "print(matches)\n"
   ]
  },
  {
   "cell_type": "code",
   "execution_count": 309,
   "id": "08ad8f51",
   "metadata": {},
   "outputs": [
    {
     "name": "stdout",
     "output_type": "stream",
     "text": [
      "Match\n",
      "Match\n",
      "Not Match\n"
     ]
    }
   ],
   "source": [
    "#Question 15- Write a Python program to search some literals strings in a string. \n",
    "import re\n",
    "patterns = [ 'fox', 'dog', 'horse' ]\n",
    "text = 'The quick brown fox jumps over the lazy dog.'\n",
    "for pattern in patterns:\n",
    "    \n",
    "    if re.search(pattern,  text):\n",
    "        print('Match')\n",
    "    else:\n",
    "        print('Not Match')"
   ]
  },
  {
   "cell_type": "code",
   "execution_count": 310,
   "id": "e5fcb4f3",
   "metadata": {},
   "outputs": [
    {
     "name": "stdout",
     "output_type": "stream",
     "text": [
      "['fox']\n"
     ]
    }
   ],
   "source": [
    "#Question 16- Write a Python program to search a literals string in a string and also find the location within the original string where the pattern occurs\n",
    "import re\n",
    "pattern=\"fox\"\n",
    "string= \"The quick brown fox jumps over the lazy dog.\"\n",
    "op=re.findall(pattern,string)\n",
    "print(op)"
   ]
  },
  {
   "cell_type": "code",
   "execution_count": 311,
   "id": "41925bcf",
   "metadata": {},
   "outputs": [
    {
     "name": "stdout",
     "output_type": "stream",
     "text": [
      "['exercises', 'exercises', 'exercises']\n"
     ]
    }
   ],
   "source": [
    "#example17\n",
    "import re\n",
    "pattern=\"exercises\"\n",
    "string=\"Python exercises, PHP exercises, C# exercises\"\n",
    "matches=re.findall(pattern,string)\n",
    "print(matches)"
   ]
  },
  {
   "cell_type": "code",
   "execution_count": 312,
   "id": "12cd71ad",
   "metadata": {},
   "outputs": [
    {
     "name": "stdout",
     "output_type": "stream",
     "text": [
      "('exercises', 7, 16)\n",
      "('exercises', 22, 31)\n",
      "('exercises', 36, 45)\n"
     ]
    }
   ],
   "source": [
    "#Question 18- Write a Python program to find the occurrence and position of the substrings within a string.\n",
    "import re\n",
    "string= 'Python exercises, PHP exercises, C# exercises'\n",
    "pattern = 'exercises'\n",
    "for find in re.finditer(pattern,string):\n",
    "    s = find.start()\n",
    "    e = find.end()\n",
    "    print((string[s:e], s, e))"
   ]
  },
  {
   "cell_type": "code",
   "execution_count": 313,
   "id": "40c1375c",
   "metadata": {},
   "outputs": [
    {
     "name": "stdout",
     "output_type": "stream",
     "text": [
      "2022-09-15\n",
      "15-09-2022\n"
     ]
    }
   ],
   "source": [
    "#Question 19- Write a Python program to convert a date of yyyy-mm-dd format to dd-mm-yyyy format.\n",
    "import re\n",
    "def df(ipd):\n",
    "        return re.sub(r'(\\d{4})-(\\d{1,2})-(\\d{1,2})', '\\\\3-\\\\2-\\\\1', ipd)\n",
    "date = \"2022-09-15\"\n",
    "print(date)\n",
    "print(df(date))\n"
   ]
  },
  {
   "cell_type": "code",
   "execution_count": 317,
   "id": "03d1ed8c",
   "metadata": {},
   "outputs": [
    {
     "name": "stdout",
     "output_type": "stream",
     "text": [
      "False\n"
     ]
    }
   ],
   "source": [
    "#Question 20- Create a function in python to find all decimal numbers with a precision of 1 or 2 in a string. The use of the re.compile() method is mandatory.\n",
    "def is_decimal(num):\n",
    "    import re\n",
    "    dnumre = re.compile(r\"\"\"^[0-9]+(\\.[0-9]{1,2})?$\"\"\")\n",
    "    result = dnumre.search(num)\n",
    "    return bool(result)\n",
    "\n",
    "print(is_decimal('01.12 0132.123 2.31875 145.8 3.01 27.25 0.25'))\n"
   ]
  },
  {
   "cell_type": "code",
   "execution_count": 281,
   "id": "1e3e005b",
   "metadata": {},
   "outputs": [
    {
     "name": "stdout",
     "output_type": "stream",
     "text": [
      "21\n",
      "11\n"
     ]
    }
   ],
   "source": [
    "#Question 21- Write a Python program to separate and print the numbers and their position of a given string.\n",
    "import re\n",
    "\n",
    "string= \"this is my 21First python program\"\n",
    "for m in re.finditer(\"\\d+\",string):\n",
    "    print(m.group(0))\n",
    "    print(m.start())\n"
   ]
  },
  {
   "cell_type": "code",
   "execution_count": 318,
   "id": "f0ee59b1",
   "metadata": {},
   "outputs": [
    {
     "name": "stdout",
     "output_type": "stream",
     "text": [
      "maxnum 8\n"
     ]
    }
   ],
   "source": [
    "#Question 22- Write a regular expression in python program to extract maximum/largest numeric value from a string.\n",
    "import re\n",
    "string=\"sardar patel statue is 182meter.aprroc 600 fit\"\n",
    "num=re.findall('\\d',string)\n",
    "num=map(int,num)\n",
    "print(\"maxnum\",max(num))\n"
   ]
  },
  {
   "cell_type": "code",
   "execution_count": 319,
   "id": "5e66c2c1",
   "metadata": {},
   "outputs": [
    {
     "name": "stdout",
     "output_type": "stream",
     "text": [
      "Regular Expression Is An Important Topic In Python\n"
     ]
    }
   ],
   "source": [
    "#Question 23- Create a function in python to insert spaces between words starting with capital letters.\n",
    "import re\n",
    "def ops(str1):\n",
    "  return re.sub(r\"(\\w)([A-Z])\", r\"\\1 \\2\", str1)\n",
    "\n",
    "print(ops(\"RegularExpressionIsAnImportantTopicInPython\"))\n",
    "\n"
   ]
  },
  {
   "cell_type": "code",
   "execution_count": 320,
   "id": "0f2de92a",
   "metadata": {},
   "outputs": [
    {
     "name": "stdout",
     "output_type": "stream",
     "text": [
      "no match\n",
      "match\n"
     ]
    }
   ],
   "source": [
    "#Question 24- Python regex to find sequences of one upper case letter followed by lower case letters\n",
    "import re\n",
    "def str(op):\n",
    "        pattern = '[A-Z]+[a-z]+$'\n",
    "        if re.search(pattern, op):\n",
    "                return ('match')\n",
    "        else:\n",
    "                return ('no match')\n",
    "\n",
    "print(str(\"DD\"))\n",
    "print(str(\"Dd\"))\n"
   ]
  },
  {
   "cell_type": "code",
   "execution_count": 321,
   "id": "cde331af",
   "metadata": {
    "scrolled": true
   },
   "outputs": [
    {
     "name": "stdout",
     "output_type": "stream",
     "text": [
      "Hello hello world\n"
     ]
    }
   ],
   "source": [
    "#Question 25- Write a Python program to remove continuous duplicate words from Sentence using Regular Expression.\n",
    "import re\n",
    "str = \"Hello hello world world\"\n",
    "def unique_list(text_str):\n",
    "    l = str.split()\n",
    "    temp = []\n",
    "    for x in l:\n",
    "        if x not in temp:\n",
    "            temp.append(x)\n",
    "    return ' '.join(temp)\n",
    "print(unique_list(str))\n"
   ]
  },
  {
   "cell_type": "code",
   "execution_count": 322,
   "id": "7461040a",
   "metadata": {},
   "outputs": [
    {
     "name": "stdout",
     "output_type": "stream",
     "text": [
      "['d']\n"
     ]
    }
   ],
   "source": [
    "#question 26-  Write a python program using RegEx to accept string ending with alphanumeric character.\n",
    "import re\n",
    "string=\"Hello hello world world\"\n",
    "pattern='[a-zA-Z0-9]$'\n",
    "op=re.findall(pattern,string)\n",
    "print(op)"
   ]
  },
  {
   "cell_type": "code",
   "execution_count": 323,
   "id": "7b7a80cb",
   "metadata": {},
   "outputs": [
    {
     "name": "stdout",
     "output_type": "stream",
     "text": [
      "['#Doltiwal', '#xyzabc', '#Demonetization']\n"
     ]
    }
   ],
   "source": [
    "#example27\n",
    "import re\n",
    "pattern=r\"#\\S+\"\n",
    "text=\"\"\"RT @kapil_kausik: #Doltiwal I mean #xyzabc is \"hurt\" by #Demonetization as the same has rendered USELESS <ed><U+00A0><U+00BD><ed><U+00B1><U+0089> \"acquired funds\" No wo\"\"\"\n",
    "matches=re.findall(pattern,text)\n",
    "print(matches)"
   ]
  },
  {
   "cell_type": "code",
   "execution_count": 324,
   "id": "01bdddd4",
   "metadata": {},
   "outputs": [
    {
     "name": "stdout",
     "output_type": "stream",
     "text": [
      "@Jags123456 Bharat band on 28??<ed><ed>Those who  are protesting #demonetization  are all different party leaders\n"
     ]
    }
   ],
   "source": [
    "#Question 28- Write a python program using RegEx to remove <U+..> like symbols\n",
    "import re\n",
    "\n",
    "string=\"@Jags123456 Bharat band on 28??<ed><U+00A0><U+00BD><ed><U+00B8><U+0082>Those who  are protesting #demonetization  are all different party leaders\"\n",
    "pattern=r\"<U\\+\\w{4}>\"\n",
    "op=re.sub(pattern, \"\",string)\n",
    "print(op)"
   ]
  },
  {
   "cell_type": "code",
   "execution_count": 327,
   "id": "f58d182b",
   "metadata": {},
   "outputs": [
    {
     "ename": "SyntaxError",
     "evalue": "invalid syntax (428839214.py, line 1)",
     "output_type": "error",
     "traceback": [
      "\u001b[1;36m  Cell \u001b[1;32mIn[327], line 1\u001b[1;36m\u001b[0m\n\u001b[1;33m    Question 29-Write a python program to extract dates from the text stored in the text file.\u001b[0m\n\u001b[1;37m             ^\u001b[0m\n\u001b[1;31mSyntaxError\u001b[0m\u001b[1;31m:\u001b[0m invalid syntax\n"
     ]
    }
   ],
   "source": [
    "#Question 29-Write a python program to extract dates from the text stored in the text file.\n",
    "import re\n",
    "\n",
    "file = open(\"C:\\Users\\Lakhan\\Desktop\\python29.txt\",'r')\n",
    "\n",
    "text = file.read()\n",
    "op= re.findall(r'(\\d+/\\d+/\\d+)',text)\n",
    "\n",
    "print(op)\n"
   ]
  },
  {
   "cell_type": "code",
   "execution_count": 326,
   "id": "4616f09a",
   "metadata": {},
   "outputs": [
    {
     "name": "stdout",
     "output_type": "stream",
     "text": [
      " following example creates ArrayList a capacity elements. 4 elements added ArrayList ArrayList trimmed accordingly.\n"
     ]
    }
   ],
   "source": [
    "#Question 30- Create a function in python to remove all words from a string of length between 2 and 4.The use of the re.compile() method is mandatory.Sample Text: \"The following example creates an ArrayList with a capacity of 50 elements. 4 elements are then added to the ArrayList and the ArrayList is trimmed accordingly.\"Expected Output:  following example creates ArrayList a capacity elements. 4 elements added ArrayList ArrayList trimmed accordingly.\n",
    "import re\n",
    "text = \"The following example creates an ArrayList with a capacity of 50 elements. 4 elements are then added to the ArrayList and the ArrayList is trimmed accordingly.\"\n",
    "shortword = re.compile(r'\\W*\\b\\w{2,4}\\b')\n",
    "print(shortword.sub('', text))\n"
   ]
  },
  {
   "cell_type": "code",
   "execution_count": null,
   "id": "7890584e",
   "metadata": {},
   "outputs": [],
   "source": []
  }
 ],
 "metadata": {
  "kernelspec": {
   "display_name": "Python 3 (ipykernel)",
   "language": "python",
   "name": "python3"
  },
  "language_info": {
   "codemirror_mode": {
    "name": "ipython",
    "version": 3
   },
   "file_extension": ".py",
   "mimetype": "text/x-python",
   "name": "python",
   "nbconvert_exporter": "python",
   "pygments_lexer": "ipython3",
   "version": "3.11.4"
  }
 },
 "nbformat": 4,
 "nbformat_minor": 5
}
